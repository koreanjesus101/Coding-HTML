{
  "cells": [
    {
      "cell_type": "markdown",
      "metadata": {
        "id": "U2Pj3jbDcnZG"
      },
      "source": [
        "Lab2 question 1"
      ]
    },
    {
      "cell_type": "code",
      "execution_count": null,
      "metadata": {
        "colab": {
          "base_uri": "https://localhost:8080/"
        },
        "id": "BexXmuBnPvEd",
        "outputId": "7b98653c-4158-402e-8d29-9c1ad68f6b54"
      },
      "outputs": [
        {
          "output_type": "stream",
          "name": "stdout",
          "text": [
            "Enter GIC term in years: 5\n",
            "Enter amount to invest: 9999\n",
            "interest at the end of the term:$ 1874.8125\n",
            "total at the end of the term:$ 11873.8125\n"
          ]
        }
      ],
      "source": [
        "term = float(input(\"Enter GIC term in years: \"))\n",
        "amount = float(input(\"Enter amount to invest: \"))\n",
        "if term <= 1:\n",
        "  interest_rate = 0.049\n",
        "elif term <= 2:\n",
        "  interest_rate = 0.041\n",
        "elif term <= 3:\n",
        "  interest_rate = 0.04\n",
        "elif term <= 4:\n",
        "  interest_rate = 0.038\n",
        "elif term <= 5:\n",
        "  interest_rate = 0.0375\n",
        "\n",
        "total_interest = amount * interest_rate * term\n",
        "print(\"interest at the end of the term:$\", total_interest)\n",
        "\n",
        "total_amount = amount + total_interest\n",
        "print(\"total at the end of the term:$\", total_amount)"
      ]
    },
    {
      "cell_type": "markdown",
      "metadata": {
        "id": "dpTLon4Pcrpw"
      },
      "source": [
        "Lab2 question 2"
      ]
    },
    {
      "cell_type": "code",
      "execution_count": null,
      "metadata": {
        "colab": {
          "base_uri": "https://localhost:8080/"
        },
        "id": "Z934hOf9cmz5",
        "outputId": "e8053aab-1022-4f99-ed1a-1720732742a0"
      },
      "outputs": [
        {
          "output_type": "stream",
          "name": "stdout",
          "text": [
            "Manna Corp. Retirment Eligilbilty Checker\n",
            "enter age:57\n",
            "enter years of service:23\n",
            "you are eligible for retirement with full pension benefits\n"
          ]
        }
      ],
      "source": [
        "print(\"Manna Corp. Retirment Eligilbilty Checker\")\n",
        "age = int(input(\"enter age:\"))\n",
        "service = int(input(\"enter years of service:\"))\n",
        "\n",
        "if (age < 50):\n",
        "  print(\"you are not eligible for retirement\")\n",
        "elif (age >= 65 or age + service >= 80):\n",
        "  print(\"you are eligible for retirement with full pension benefits\")\n",
        "elif (age >= 64 or age + service < 80):\n",
        "  print(\"you are eligible for retirement with discounted pension benefits\")\n",
        "\n",
        "\n"
      ]
    }
  ],
  "metadata": {
    "colab": {
      "provenance": []
    },
    "kernelspec": {
      "display_name": "Python 3",
      "name": "python3"
    },
    "language_info": {
      "name": "python"
    }
  },
  "nbformat": 4,
  "nbformat_minor": 0
}