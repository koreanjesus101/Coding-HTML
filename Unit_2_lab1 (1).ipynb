{
  "nbformat": 4,
  "nbformat_minor": 0,
  "metadata": {
    "colab": {
      "provenance": []
    },
    "kernelspec": {
      "name": "python3",
      "display_name": "Python 3"
    },
    "language_info": {
      "name": "python"
    }
  },
  "cells": [
    {
      "cell_type": "code",
      "execution_count": null,
      "metadata": {
        "colab": {
          "base_uri": "https://localhost:8080/"
        },
        "id": "39YUccKP7isq",
        "outputId": "6b9a1197-08d8-4227-cb93-3fd7f44ba1af"
      },
      "outputs": [
        {
          "output_type": "stream",
          "name": "stdout",
          "text": [
            "enter civic number: y6j 8k0\n",
            "enter street name: Cougar Ridge\n",
            "enter city name: Calgary\n",
            "enter province name:AB\n",
            "enter postal code: T3H 5L3\n",
            "enter customer name: SEan Lee\n",
            "Ship to:\n",
            "SEan Lee y6j 8k0\n",
            "Cougar Ridge\n",
            "Calgary AB T3H 5L3\n"
          ]
        }
      ],
      "source": [
        "civic_number=input(\"enter civic number: \")\n",
        "street_name=input(\"enter street name: \")\n",
        "city_name=input(\"enter city name: \")\n",
        "province_code=input(\"enter province name:\")\n",
        "postal_code=input(\"enter postal code: \")\n",
        "customer_name=input(\"enter customer name: \")\n",
        "\n",
        "print(\"Ship to:\")\n",
        "print(customer_name, civic_number)\n",
        "print(street_name)\n",
        "print(city_name, province_code, postal_code)"
      ]
    },
    {
      "cell_type": "code",
      "source": [
        "distance_trip=float(input(\"enter distance of trip (km)\"))\n",
        "fuel_trip=float(input(\"enter fuel price ($/L)\"))\n",
        "average_fuel= (6.9/100)\n",
        "\n",
        "\n",
        "result=distance_trip*fuel_trip*average_fuel\n",
        "print(\"total trip fuel cost:$\", result)"
      ],
      "metadata": {
        "id": "stKvjKK9-bqp",
        "colab": {
          "base_uri": "https://localhost:8080/"
        },
        "outputId": "8af612ec-5bcb-44a5-c89a-89b3cbe366c9"
      },
      "execution_count": null,
      "outputs": [
        {
          "output_type": "stream",
          "name": "stdout",
          "text": [
            "enter distance of trip (km)59\n",
            "enter fuel price ($/L)5.19\n",
            "total trip fuel cost:$ 21.128490000000003\n"
          ]
        }
      ]
    }
  ]
}